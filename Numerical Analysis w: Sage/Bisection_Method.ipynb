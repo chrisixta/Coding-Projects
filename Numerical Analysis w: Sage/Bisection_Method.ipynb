{
 "cells": [
  {
   "cell_type": "code",
   "execution_count": 93,
   "metadata": {
    "collapsed": false,
    "jupyter": {
     "outputs_hidden": false
    }
   },
   "outputs": [],
   "source": [
    "#BISECTION_METHOD\n",
    "#\n",
    "# This subroutine solves for a root of the\n",
    "# equation f(x)=0 using the Bisection Method\n",
    "#\n",
    "# Author: Chris Ixtabalan\n",
    "#  \n",
    "# Date: 1/30/25"
   ]
  },
  {
   "cell_type": "code",
   "execution_count": 94,
   "metadata": {},
   "outputs": [],
   "source": [
    "#input parameters\n",
    "#     f: the function defined\n",
    "#     a: left boundary\n",
    "#     b: right boundary\n",
    "#     maxn: max number of iterations\n",
    "#     tol: tolerance\n",
    "#\n",
    "# return parameters\n",
    "#    plist: list of iterative guesses\n",
    "#    j: number of iterations\n",
    "#\n",
    "# output\n",
    "#    none"
   ]
  },
  {
   "cell_type": "code",
   "execution_count": 95,
   "metadata": {},
   "outputs": [],
   "source": [
    "#####################################################################################"
   ]
  },
  {
   "cell_type": "code",
   "execution_count": 96,
   "metadata": {},
   "outputs": [],
   "source": [
    "#PROBLEM 1 (49pg)\n",
    "\n",
    "def bisection_method(f, a, b, maxn, tol):\n",
    "    j = 0\n",
    "    fa = f(a)\n",
    "    plist = [a]\n",
    "    while True:\n",
    "        p = a+(b-a)/2.0\n",
    "        fp = f(p)\n",
    "        plist.append(p)\n",
    "        if abs(fp) == 0 or (b-a)/2.0<tol: #added abs()\n",
    "            break\n",
    "        if j==maxn:\n",
    "            break\n",
    "        j+=1\n",
    "        if sgn(fa)*sgn(fp) > 0.0:\n",
    "                a = p\n",
    "                fa = fp\n",
    "        else:\n",
    "            b = p\n",
    "\n",
    "    return plist,j"
   ]
  },
  {
   "cell_type": "code",
   "execution_count": 97,
   "metadata": {},
   "outputs": [],
   "source": [
    "#####################################################################################"
   ]
  },
  {
   "cell_type": "code",
   "execution_count": 98,
   "metadata": {
    "collapsed": false,
    "jupyter": {
     "outputs_hidden": false
    }
   },
   "outputs": [
    {
     "data": {
      "image/png": "[encoded data removed]",
      "text/plain": [
       "Graphics object consisting of 1 graphics primitive"
      ]
     },
     "execution_count": 98,
     "metadata": {},
     "output_type": "execute_result"
    }
   ],
   "source": [
    "#PROBLEM 2 (50-51pg)\n",
    "#Plot\n",
    "\n",
    "f(x) = (x^3+4*x^2-10)\n",
    "plot(f(x),1,2) #Plot f(x) here between [1,2]"
   ]
  },
  {
   "cell_type": "code",
   "execution_count": 139,
   "metadata": {
    "collapsed": false,
    "jupyter": {
     "outputs_hidden": false
    }
   },
   "outputs": [
    {
     "data": {
      "text/html": [
       "<div class=\"notruncate\">\n",
       "<table  class=\"table_form\">\n",
       "<tbody>\n",
       "<tr>\n",
       "<th style=\"text-align:left\">Iterations</th>\n",
       "<th style=\"text-align:left\">Root Guess</th>\n",
       "</tr>\n",
       "<tr class =\"row-a\">\n",
       "<td style=\"text-align:left\">\\(0\\)</td>\n",
       "<td style=\"text-align:left\">\\(1.00000000000000\\)</td>\n",
       "</tr>\n",
       "<tr class =\"row-b\">\n",
       "<td style=\"text-align:left\">\\(1\\)</td>\n",
       "<td style=\"text-align:left\">\\(1.50000000000000\\)</td>\n",
       "</tr>\n",
       "<tr class =\"row-a\">\n",
       "<td style=\"text-align:left\">\\(2\\)</td>\n",
       "<td style=\"text-align:left\">\\(1.25000000000000\\)</td>\n",
       "</tr>\n",
       "<tr class =\"row-b\">\n",
       "<td style=\"text-align:left\">\\(3\\)</td>\n",
       "<td style=\"text-align:left\">\\(1.37500000000000\\)</td>\n",
       "</tr>\n",
       "<tr class =\"row-a\">\n",
       "<td style=\"text-align:left\">\\(4\\)</td>\n",
       "<td style=\"text-align:left\">\\(1.31250000000000\\)</td>\n",
       "</tr>\n",
       "<tr class =\"row-b\">\n",
       "<td style=\"text-align:left\">\\(5\\)</td>\n",
       "<td style=\"text-align:left\">\\(1.34375000000000\\)</td>\n",
       "</tr>\n",
       "<tr class =\"row-a\">\n",
       "<td style=\"text-align:left\">\\(6\\)</td>\n",
       "<td style=\"text-align:left\">\\(1.35937500000000\\)</td>\n",
       "</tr>\n",
       "<tr class =\"row-b\">\n",
       "<td style=\"text-align:left\">\\(7\\)</td>\n",
       "<td style=\"text-align:left\">\\(1.36718750000000\\)</td>\n",
       "</tr>\n",
       "<tr class =\"row-a\">\n",
       "<td style=\"text-align:left\">\\(8\\)</td>\n",
       "<td style=\"text-align:left\">\\(1.36328125000000\\)</td>\n",
       "</tr>\n",
       "<tr class =\"row-b\">\n",
       "<td style=\"text-align:left\">\\(9\\)</td>\n",
       "<td style=\"text-align:left\">\\(1.36523437500000\\)</td>\n",
       "</tr>\n",
       "<tr class =\"row-a\">\n",
       "<td style=\"text-align:left\">\\(10\\)</td>\n",
       "<td style=\"text-align:left\">\\(1.36425781250000\\)</td>\n",
       "</tr>\n",
       "<tr class =\"row-b\">\n",
       "<td style=\"text-align:left\">\\(11\\)</td>\n",
       "<td style=\"text-align:left\">\\(1.36376953125000\\)</td>\n",
       "</tr>\n",
       "<tr class =\"row-a\">\n",
       "<td style=\"text-align:left\">\\(12\\)</td>\n",
       "<td style=\"text-align:left\">\\(1.36352539062500\\)</td>\n",
       "</tr>\n",
       "<tr class =\"row-b\">\n",
       "<td style=\"text-align:left\">\\(13\\)</td>\n",
       "<td style=\"text-align:left\">\\(1.36340332031250\\)</td>\n",
       "</tr>\n",
       "</tbody>\n",
       "</table>\n",
       "</div>"
      ],
      "text/plain": [
       "  Iterations   Root Guess\n",
       "├────────────┼──────────────────┤\n",
       "  0            1.00000000000000\n",
       "  1            1.50000000000000\n",
       "  2            1.25000000000000\n",
       "  3            1.37500000000000\n",
       "  4            1.31250000000000\n",
       "  5            1.34375000000000\n",
       "  6            1.35937500000000\n",
       "  7            1.36718750000000\n",
       "  8            1.36328125000000\n",
       "  9            1.36523437500000\n",
       "  10           1.36425781250000\n",
       "  11           1.36376953125000\n",
       "  12           1.36352539062500\n",
       "  13           1.36340332031250"
      ]
     },
     "execution_count": 139,
     "metadata": {},
     "output_type": "execute_result"
    }
   ],
   "source": [
    "#Bisection Method\n",
    "\n",
    "#intervals\n",
    "a = 1.0\n",
    "b = 2.0\n",
    "#tolerance\n",
    "tol=10^-4\n",
    "maxn = 20\n",
    "\n",
    "#Bisection function\n",
    "bisection, j = bisection_method(f, a, b, maxn, tol)\n",
    "\n",
    "#Root Guess\n",
    "table([(i, bisection[i]) for i in [0..j]], header_row=[\"Iterations\", \"Root Guess\"])"
   ]
  },
  {
   "cell_type": "code",
   "execution_count": null,
   "metadata": {},
   "outputs": [],
   "source": [
    "#####################################################################################"
   ]
  },
  {
   "cell_type": "code",
   "execution_count": 118,
   "metadata": {},
   "outputs": [
    {
     "data": {
      "image/png": "[encoded data removed]",
      "text/plain": [
       "Graphics object consisting of 2 graphics primitives"
      ]
     },
     "metadata": {},
     "output_type": "display_data"
    }
   ],
   "source": [
    "#PROBLEM 3 (53pg)\n",
    "#Plot\n",
    "\n",
    "y1(x) = exp(1) - x^2\n",
    "y2(x) = x^2 - 1\n",
    "\n",
    "#Plot the functions on same graph\n",
    "p1 = plot(y1, (x, -5, 5), color='blue')\n",
    "p2 = plot(y2, (x, -5, 5), color='red')\n",
    "\n",
    "#Combine plots\n",
    "p1 += p2\n",
    "\n",
    "#Shows everything\n",
    "p1.show()"
   ]
  },
  {
   "cell_type": "code",
   "execution_count": 149,
   "metadata": {},
   "outputs": [
    {
     "data": {
      "text/html": [
       "<div class=\"notruncate\">\n",
       "<table  class=\"table_form\">\n",
       "<tbody>\n",
       "<tr>\n",
       "<th style=\"text-align:left\">Iterations</th>\n",
       "<th style=\"text-align:left\">Root Guess</th>\n",
       "</tr>\n",
       "<tr class =\"row-a\">\n",
       "<td style=\"text-align:left\">\\(0\\)</td>\n",
       "<td style=\"text-align:left\">\\(-2.00000000000000\\)</td>\n",
       "</tr>\n",
       "<tr class =\"row-b\">\n",
       "<td style=\"text-align:left\">\\(1\\)</td>\n",
       "<td style=\"text-align:left\">\\(-1.00000000000000\\)</td>\n",
       "</tr>\n",
       "<tr class =\"row-a\">\n",
       "<td style=\"text-align:left\">\\(2\\)</td>\n",
       "<td style=\"text-align:left\">\\(-1.50000000000000\\)</td>\n",
       "</tr>\n",
       "<tr class =\"row-b\">\n",
       "<td style=\"text-align:left\">\\(3\\)</td>\n",
       "<td style=\"text-align:left\">\\(-1.25000000000000\\)</td>\n",
       "</tr>\n",
       "<tr class =\"row-a\">\n",
       "<td style=\"text-align:left\">\\(4\\)</td>\n",
       "<td style=\"text-align:left\">\\(-1.37500000000000\\)</td>\n",
       "</tr>\n",
       "<tr class =\"row-b\">\n",
       "<td style=\"text-align:left\">\\(5\\)</td>\n",
       "<td style=\"text-align:left\">\\(-1.31250000000000\\)</td>\n",
       "</tr>\n",
       "<tr class =\"row-a\">\n",
       "<td style=\"text-align:left\">\\(6\\)</td>\n",
       "<td style=\"text-align:left\">\\(-1.28125000000000\\)</td>\n",
       "</tr>\n",
       "<tr class =\"row-b\">\n",
       "<td style=\"text-align:left\">\\(7\\)</td>\n",
       "<td style=\"text-align:left\">\\(-1.26562500000000\\)</td>\n",
       "</tr>\n",
       "<tr class =\"row-a\">\n",
       "<td style=\"text-align:left\">\\(8\\)</td>\n",
       "<td style=\"text-align:left\">\\(-1.25781250000000\\)</td>\n",
       "</tr>\n",
       "<tr class =\"row-b\">\n",
       "<td style=\"text-align:left\">\\(9\\)</td>\n",
       "<td style=\"text-align:left\">\\(-1.25390625000000\\)</td>\n",
       "</tr>\n",
       "<tr class =\"row-a\">\n",
       "<td style=\"text-align:left\">\\(10\\)</td>\n",
       "<td style=\"text-align:left\">\\(-1.25195312500000\\)</td>\n",
       "</tr>\n",
       "</tbody>\n",
       "</table>\n",
       "</div>"
      ],
      "text/plain": [
       "  Iterations   Root Guess\n",
       "├────────────┼───────────────────┤\n",
       "  0            -2.00000000000000\n",
       "  1            -1.00000000000000\n",
       "  2            -1.50000000000000\n",
       "  3            -1.25000000000000\n",
       "  4            -1.37500000000000\n",
       "  5            -1.31250000000000\n",
       "  6            -1.28125000000000\n",
       "  7            -1.26562500000000\n",
       "  8            -1.25781250000000\n",
       "  9            -1.25390625000000\n",
       "  10           -1.25195312500000"
      ]
     },
     "execution_count": 149,
     "metadata": {},
     "output_type": "execute_result"
    }
   ],
   "source": [
    "# Run bisection method with max iterations 25\n",
    "f(x) = x^2 - 1 - e^(1-x^2)\n",
    "a = -2.0\n",
    "b = 0\n",
    "tol=10^-3\n",
    "\n",
    "bisection_25, j_25 = bisection_method(f, a, b, 25, tol)\n",
    "\n",
    "#Root Guess\n",
    "table([(i, bisection_25[i]) for i in [0..j_25]], header_row=[\"Iterations\", \"Root Guess\"])"
   ]
  },
  {
   "cell_type": "code",
   "execution_count": 150,
   "metadata": {},
   "outputs": [
    {
     "data": {
      "text/html": [
       "<div class=\"notruncate\">\n",
       "<table  class=\"table_form\">\n",
       "<tbody>\n",
       "<tr>\n",
       "<th style=\"text-align:left\">Iterations</th>\n",
       "<th style=\"text-align:left\">Root Guess</th>\n",
       "</tr>\n",
       "<tr class =\"row-a\">\n",
       "<td style=\"text-align:left\">\\(0\\)</td>\n",
       "<td style=\"text-align:left\">\\(-2.00000000000000\\)</td>\n",
       "</tr>\n",
       "<tr class =\"row-b\">\n",
       "<td style=\"text-align:left\">\\(1\\)</td>\n",
       "<td style=\"text-align:left\">\\(-1.00000000000000\\)</td>\n",
       "</tr>\n",
       "<tr class =\"row-a\">\n",
       "<td style=\"text-align:left\">\\(2\\)</td>\n",
       "<td style=\"text-align:left\">\\(-1.50000000000000\\)</td>\n",
       "</tr>\n",
       "<tr class =\"row-b\">\n",
       "<td style=\"text-align:left\">\\(3\\)</td>\n",
       "<td style=\"text-align:left\">\\(-1.25000000000000\\)</td>\n",
       "</tr>\n",
       "<tr class =\"row-a\">\n",
       "<td style=\"text-align:left\">\\(4\\)</td>\n",
       "<td style=\"text-align:left\">\\(-1.37500000000000\\)</td>\n",
       "</tr>\n",
       "<tr class =\"row-b\">\n",
       "<td style=\"text-align:left\">\\(5\\)</td>\n",
       "<td style=\"text-align:left\">\\(-1.31250000000000\\)</td>\n",
       "</tr>\n",
       "</tbody>\n",
       "</table>\n",
       "</div>"
      ],
      "text/plain": [
       "  Iterations   Root Guess\n",
       "├────────────┼───────────────────┤\n",
       "  0            -2.00000000000000\n",
       "  1            -1.00000000000000\n",
       "  2            -1.50000000000000\n",
       "  3            -1.25000000000000\n",
       "  4            -1.37500000000000\n",
       "  5            -1.31250000000000"
      ]
     },
     "execution_count": 150,
     "metadata": {},
     "output_type": "execute_result"
    }
   ],
   "source": [
    "# Run bisection method with max iterations 5\n",
    "bisection_5, j_5 = bisection_method(f, a, b, 5, tol)\n",
    "\n",
    "#Root Guess\n",
    "table([(i, bisection_5[i]) for i in [0..j_5]], header_row=[\"Iterations\", \"Root Guess\"])"
   ]
  },
  {
   "cell_type": "code",
   "execution_count": 148,
   "metadata": {},
   "outputs": [],
   "source": [
    "#####################################################################################"
   ]
  },
  {
   "cell_type": "code",
   "execution_count": 151,
   "metadata": {},
   "outputs": [
    {
     "data": {
      "text/html": [
       "<div class=\"notruncate\">\n",
       "<table  class=\"table_form\">\n",
       "<tbody>\n",
       "<tr>\n",
       "<th style=\"text-align:left\">Iterations</th>\n",
       "<th style=\"text-align:left\">Root Guess</th>\n",
       "</tr>\n",
       "<tr class =\"row-a\">\n",
       "<td style=\"text-align:left\">\\(0\\)</td>\n",
       "<td style=\"text-align:left\">\\(1.00000000000000\\)</td>\n",
       "</tr>\n",
       "<tr class =\"row-b\">\n",
       "<td style=\"text-align:left\">\\(1\\)</td>\n",
       "<td style=\"text-align:left\">\\(1.50000000000000\\)</td>\n",
       "</tr>\n",
       "<tr class =\"row-a\">\n",
       "<td style=\"text-align:left\">\\(2\\)</td>\n",
       "<td style=\"text-align:left\">\\(1.75000000000000\\)</td>\n",
       "</tr>\n",
       "<tr class =\"row-b\">\n",
       "<td style=\"text-align:left\">\\(3\\)</td>\n",
       "<td style=\"text-align:left\">\\(1.62500000000000\\)</td>\n",
       "</tr>\n",
       "<tr class =\"row-a\">\n",
       "<td style=\"text-align:left\">\\(4\\)</td>\n",
       "<td style=\"text-align:left\">\\(1.68750000000000\\)</td>\n",
       "</tr>\n",
       "<tr class =\"row-b\">\n",
       "<td style=\"text-align:left\">\\(5\\)</td>\n",
       "<td style=\"text-align:left\">\\(1.71875000000000\\)</td>\n",
       "</tr>\n",
       "<tr class =\"row-a\">\n",
       "<td style=\"text-align:left\">\\(6\\)</td>\n",
       "<td style=\"text-align:left\">\\(1.73437500000000\\)</td>\n",
       "</tr>\n",
       "<tr class =\"row-b\">\n",
       "<td style=\"text-align:left\">\\(7\\)</td>\n",
       "<td style=\"text-align:left\">\\(1.72656250000000\\)</td>\n",
       "</tr>\n",
       "<tr class =\"row-a\">\n",
       "<td style=\"text-align:left\">\\(8\\)</td>\n",
       "<td style=\"text-align:left\">\\(1.73046875000000\\)</td>\n",
       "</tr>\n",
       "<tr class =\"row-b\">\n",
       "<td style=\"text-align:left\">\\(9\\)</td>\n",
       "<td style=\"text-align:left\">\\(1.73242187500000\\)</td>\n",
       "</tr>\n",
       "<tr class =\"row-a\">\n",
       "<td style=\"text-align:left\">\\(10\\)</td>\n",
       "<td style=\"text-align:left\">\\(1.73144531250000\\)</td>\n",
       "</tr>\n",
       "<tr class =\"row-b\">\n",
       "<td style=\"text-align:left\">\\(11\\)</td>\n",
       "<td style=\"text-align:left\">\\(1.73193359375000\\)</td>\n",
       "</tr>\n",
       "<tr class =\"row-a\">\n",
       "<td style=\"text-align:left\">\\(12\\)</td>\n",
       "<td style=\"text-align:left\">\\(1.73217773437500\\)</td>\n",
       "</tr>\n",
       "<tr class =\"row-b\">\n",
       "<td style=\"text-align:left\">\\(13\\)</td>\n",
       "<td style=\"text-align:left\">\\(1.73205566406250\\)</td>\n",
       "</tr>\n",
       "</tbody>\n",
       "</table>\n",
       "</div>"
      ],
      "text/plain": [
       "  Iterations   Root Guess\n",
       "├────────────┼──────────────────┤\n",
       "  0            1.00000000000000\n",
       "  1            1.50000000000000\n",
       "  2            1.75000000000000\n",
       "  3            1.62500000000000\n",
       "  4            1.68750000000000\n",
       "  5            1.71875000000000\n",
       "  6            1.73437500000000\n",
       "  7            1.72656250000000\n",
       "  8            1.73046875000000\n",
       "  9            1.73242187500000\n",
       "  10           1.73144531250000\n",
       "  11           1.73193359375000\n",
       "  12           1.73217773437500\n",
       "  13           1.73205566406250"
      ]
     },
     "execution_count": 151,
     "metadata": {},
     "output_type": "execute_result"
    }
   ],
   "source": [
    "#PROBLEM 4 (53 & 52pg)\n",
    "#Bisection method \n",
    "\n",
    "f(x) = x^2 - 3\n",
    "a = 1.0\n",
    "b = 2.0\n",
    "tol=10^-4\n",
    "maxn = 25\n",
    "\n",
    "bisection, j = bisection_method(f, a, b, maxn, tol)\n",
    "\n",
    "#Root Guess \n",
    "table([(i, bisection[i]) for i in [0..j]], header_row=[\"Iterations\", \"Root Guess\"])"
   ]
  },
  {
   "cell_type": "code",
   "execution_count": 152,
   "metadata": {},
   "outputs": [
    {
     "data": {
      "text/html": [
       "<div class=\"notruncate\">\n",
       "<table  class=\"table_form\">\n",
       "<tbody>\n",
       "<tr>\n",
       "<th style=\"text-align:left\">Iteration</th>\n",
       "<th style=\"text-align:left\">Relative Error</th>\n",
       "</tr>\n",
       "<tr class =\"row-a\">\n",
       "<td style=\"text-align:left\">\\(0\\)</td>\n",
       "<td style=\"text-align:left\">\\(0.333333333333333\\)</td>\n",
       "</tr>\n",
       "<tr class =\"row-b\">\n",
       "<td style=\"text-align:left\">\\(1\\)</td>\n",
       "<td style=\"text-align:left\">\\(0.142857142857143\\)</td>\n",
       "</tr>\n",
       "<tr class =\"row-a\">\n",
       "<td style=\"text-align:left\">\\(2\\)</td>\n",
       "<td style=\"text-align:left\">\\(0.0769230769230769\\)</td>\n",
       "</tr>\n",
       "<tr class =\"row-b\">\n",
       "<td style=\"text-align:left\">\\(3\\)</td>\n",
       "<td style=\"text-align:left\">\\(0.0370370370370370\\)</td>\n",
       "</tr>\n",
       "<tr class =\"row-a\">\n",
       "<td style=\"text-align:left\">\\(4\\)</td>\n",
       "<td style=\"text-align:left\">\\(0.0181818181818182\\)</td>\n",
       "</tr>\n",
       "<tr class =\"row-b\">\n",
       "<td style=\"text-align:left\">\\(5\\)</td>\n",
       "<td style=\"text-align:left\">\\(0.00900900900900901\\)</td>\n",
       "</tr>\n",
       "<tr class =\"row-a\">\n",
       "<td style=\"text-align:left\">\\(6\\)</td>\n",
       "<td style=\"text-align:left\">\\(0.00452488687782805\\)</td>\n",
       "</tr>\n",
       "<tr class =\"row-b\">\n",
       "<td style=\"text-align:left\">\\(7\\)</td>\n",
       "<td style=\"text-align:left\">\\(0.00225733634311512\\)</td>\n",
       "</tr>\n",
       "<tr class =\"row-a\">\n",
       "<td style=\"text-align:left\">\\(8\\)</td>\n",
       "<td style=\"text-align:left\">\\(0.00112739571589628\\)</td>\n",
       "</tr>\n",
       "<tr class =\"row-b\">\n",
       "<td style=\"text-align:left\">\\(9\\)</td>\n",
       "<td style=\"text-align:left\">\\(0.000564015792442188\\)</td>\n",
       "</tr>\n",
       "<tr class =\"row-a\">\n",
       "<td style=\"text-align:left\">\\(10\\)</td>\n",
       "<td style=\"text-align:left\">\\(0.000281928390188892\\)</td>\n",
       "</tr>\n",
       "<tr class =\"row-b\">\n",
       "<td style=\"text-align:left\">\\(11\\)</td>\n",
       "<td style=\"text-align:left\">\\(0.000140944326990839\\)</td>\n",
       "</tr>\n",
       "<tr class =\"row-a\">\n",
       "<td style=\"text-align:left\">\\(12\\)</td>\n",
       "<td style=\"text-align:left\">\\(0.0000704771301712594\\)</td>\n",
       "</tr>\n",
       "<tr class =\"row-b\">\n",
       "<td style=\"text-align:left\">\\(13\\)</td>\n",
       "<td style=\"text-align:left\">\\(0.0000352398068858583\\)</td>\n",
       "</tr>\n",
       "</tbody>\n",
       "</table>\n",
       "</div>"
      ],
      "text/plain": [
       "  Iteration   Relative Error\n",
       "├───────────┼───────────────────────┤\n",
       "  0           0.333333333333333\n",
       "  1           0.142857142857143\n",
       "  2           0.0769230769230769\n",
       "  3           0.0370370370370370\n",
       "  4           0.0181818181818182\n",
       "  5           0.00900900900900901\n",
       "  6           0.00452488687782805\n",
       "  7           0.00225733634311512\n",
       "  8           0.00112739571589628\n",
       "  9           0.000564015792442188\n",
       "  10          0.000281928390188892\n",
       "  11          0.000140944326990839\n",
       "  12          0.0000704771301712594\n",
       "  13          0.0000352398068858583"
      ]
     },
     "execution_count": 152,
     "metadata": {},
     "output_type": "execute_result"
    }
   ],
   "source": [
    "# Calculate the relative errors for each iteration\n",
    "relative_errors = [abs(bisection[i+1] - bisection[i]) / abs(bisection[i+1]) for i in range(len(bisection) - 1)]\n",
    "\n",
    "#Table\n",
    "table([(i, relative_errors[i]) for i in [0..j]], header_row=[\"Iteration\", \"Relative Error\"])"
   ]
  },
  {
   "cell_type": "code",
   "execution_count": 108,
   "metadata": {},
   "outputs": [
    {
     "name": "stdout",
     "output_type": "stream",
     "text": [
      "13.2877123795495\n"
     ]
    }
   ],
   "source": [
    "# Calculate the iteration bound using Theorem 2.1\n",
    "iteration_bound = log(SR(b - a) / SR(tol), 2)\n",
    "#log2((b - a) / tol)\n",
    "\n",
    "print(N(iteration_bound))"
   ]
  },
  {
   "cell_type": "code",
   "execution_count": null,
   "metadata": {},
   "outputs": [],
   "source": []
  }
 ],
 "metadata": {
  "kernelspec": {
   "display_name": "SageMath 10.5",
   "language": "sage",
   "name": "sagemath-10.5"
  },
  "language_info": {
   "codemirror_mode": {
    "name": "ipython",
    "version": 3
   },
   "file_extension": ".py",
   "mimetype": "text/x-python",
   "name": "python",
   "nbconvert_exporter": "python",
   "pygments_lexer": "ipython3",
   "version": "3.12.5"
  }
 },
 "nbformat": 4,
 "nbformat_minor": 4
}
